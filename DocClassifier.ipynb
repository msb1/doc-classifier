{
 "cells": [
  {
   "cell_type": "markdown",
   "metadata": {},
   "source": [
    "## Document Classifier"
   ]
  },
  {
   "cell_type": "code",
   "execution_count": 1,
   "metadata": {},
   "outputs": [],
   "source": [
    "import csv\n",
    "import pickle\n",
    "import json\n",
    "import numpy as np\n",
    "import seaborn as sns\n",
    "import matplotlib.pyplot as plt\n",
    "import tensorflow\n",
    "from tensorflow.keras.preprocessing.text import Tokenizer"
   ]
  },
  {
   "cell_type": "markdown",
   "metadata": {},
   "source": [
    "<h4>Explore Training Dataset:"
   ]
  },
  {
   "cell_type": "code",
   "execution_count": 2,
   "metadata": {},
   "outputs": [
    {
     "name": "stdout",
     "output_type": "stream",
     "text": [
      "Total number of data records: 62204  62204\n",
      "Number of data records < 10 words:  146\n",
      "\n",
      "Labels:\n",
      "     DELETION OF INTEREST       --  4826\n",
      "     RETURNED CHECK             --  749\n",
      "     BILL                       --  18968\n",
      "     POLICY CHANGE              --  10627\n",
      "     CANCELLATION NOTICE        --  9731\n",
      "     DECLARATION                --  968\n",
      "     CHANGE ENDORSEMENT         --  889\n",
      "     NON-RENEWAL NOTICE         --  624\n",
      "     BINDER                     --  8973\n",
      "     REINSTATEMENT NOTICE       --  4368\n",
      "     EXPIRATION NOTICE          --  734\n",
      "     INTENT TO CANCEL NOTICE    --  229\n",
      "     APPLICATION                --  229\n",
      "     BILL BINDER                --  289\n",
      "Number of Labels: 14\n",
      "\n",
      "Words:\n",
      "     Number of Words in Dict: 1037935\n",
      "     Max words in hashed text entry: 9076\n",
      "     Min words in hashed text entry: 1\n"
     ]
    }
   ],
   "source": [
    "labels = []\n",
    "hashed_text = []\n",
    "label_dict = {}\n",
    "word_dict = {}\n",
    "word_counts_per_row = []\n",
    "max_row_len = 0\n",
    "min_row_len = 1e6\n",
    "bad_row_ctr = 0\n",
    "\n",
    "# minimum number of words in a row for record to be included in training set\n",
    "MIN_WORDS = 10\n",
    "\n",
    "with open('C:\\\\Users\\\\Barnwaldo\\\\Documents\\\\Labs\\\\HeavyWater\\\\shuffled-full-set-hashed.csv', mode='r', encoding='utf-8') as lines:\n",
    "    for line in lines:\n",
    "        items = line.split(',')\n",
    "        \n",
    "        # create labels dict\n",
    "        if items[0] in label_dict:\n",
    "            label_dict[items[0]] += 1\n",
    "        else:\n",
    "            label_dict[items[0]] = 1\n",
    "            \n",
    "         # create hashed word dict\n",
    "        text = items[1].split(' ')\n",
    "        text[-1] = text[-1].rstrip()\n",
    "        for t in text:\n",
    "            if t in word_dict:\n",
    "                word_dict[t] += 1\n",
    "            else:\n",
    "                word_dict[t] = 1\n",
    "        # determine max/min words per row and save word_counts for histogram\n",
    "        tlen = len(text)\n",
    "        if tlen < MIN_WORDS:\n",
    "            bad_row_ctr += 1\n",
    "        word_counts_per_row.append(tlen)\n",
    "        if tlen < min_row_len:\n",
    "            min_row_len = tlen\n",
    "        if tlen > max_row_len: \n",
    "            max_row_len = tlen\n",
    "\n",
    "        # update labels and hashed_text lists\n",
    "        labels.append(items[0])\n",
    "        hashed_text.append(text)\n",
    "         \n",
    "print(\"Total number of data records: {}  {}\".format(len(labels), len(hashed_text)))\n",
    "print(\"Number of data records < {} words:  {}\".format(MIN_WORDS, bad_row_ctr))\n",
    "\n",
    "print(\"\\nLabels:\")\n",
    "for key, val in label_dict.items():\n",
    "    print(\"     {:25s}  --  {}\".format(key, val))\n",
    "num_labels = len(label_dict)\n",
    "print(\"Number of Labels:\", num_labels)\n",
    "\n",
    "print(\"\\nWords:\")\n",
    "print(\"     Number of Words in Dict:\", len(word_dict))\n",
    "print(\"     Max words in hashed text entry:\", max_row_len)\n",
    "print(\"     Min words in hashed text entry:\", min_row_len)"
   ]
  },
  {
   "cell_type": "code",
   "execution_count": 3,
   "metadata": {},
   "outputs": [
    {
     "data": {
      "image/png": "[encoded data removed]",
      "text/plain": [
       "<Figure size 432x288 with 1 Axes>"
      ]
     },
     "metadata": {
      "needs_background": "light"
     },
     "output_type": "display_data"
    }
   ],
   "source": [
    "sns.distplot(word_counts_per_row, kde=False, bins=100)\n",
    "plt.title('Hashed Word Counts Per Row', fontsize=14)\n",
    "plt.xlabel('Hashed Text Length', fontsize=12)\n",
    "plt.ylabel('Counts', fontsize=12)\n",
    "plt.show()"
   ]
  },
  {
   "cell_type": "markdown",
   "metadata": {},
   "source": [
    "<h4>Preprocess data</h4>\n",
    "<ol>\n",
    "    <li>Create Tokenization and Label Index Dicts and save to files</li>\n",
    "    <li>Tokenize each row in training dataset</li>\n",
    "    <li>Truncate/Pad each row to fixed length</li>\n",
    "    <li>Create One Hot Labels Vector per Row for Training BCE for each label</li>\n",
    "</ol>\n"
   ]
  },
  {
   "cell_type": "code",
   "execution_count": 4,
   "metadata": {},
   "outputs": [],
   "source": [
    "# (1) Create Tokenization Index Dict and save to file\n",
    "tokenizer = Tokenizer(lower=False, filters='', num_words=None)     # change num_words to int value to shorten the number of words in tokenized dict\n",
    "tokenizer.fit_on_texts([j for sub in hashed_text for j in sub]) \n",
    "vocabulary = tokenizer.get_config()\n",
    "\n",
    "# write Tokenizer to pickle file and then read back - tokenizer pickle file is part of saved model (preprocessing)\n",
    "with open('tokenizer.pickle', 'wb') as handle:\n",
    "    pickle.dump(tokenizer, handle, protocol=pickle.HIGHEST_PROTOCOL)\n",
    "\n",
    "with open('tokenizer.pickle', 'rb') as handle:\n",
    "    tokenizer = pickle.load(handle)\n",
    "    \n",
    "# (1) Create Label Index Dict and save to file\n",
    "label_indexer = {}\n",
    "label_list = [key for key in label_dict]\n",
    "for idx, label in enumerate(label_list):\n",
    "    label_indexer[label] = idx\n",
    "    \n",
    "# write label_indexer to file in json and then read back - label_indexer is part of trained model (preprocessing)\n",
    "with open('label_indexer.json', 'w') as jsonfile:\n",
    "    json.dump(label_indexer, jsonfile)\n",
    "    \n",
    "with open('label_indexer.json') as json_file:\n",
    "    label_indexer = json.load(json_file)   "
   ]
  },
  {
   "cell_type": "code",
   "execution_count": 5,
   "metadata": {},
   "outputs": [
    {
     "name": "stdout",
     "output_type": "stream",
     "text": [
      "Number of Entries BEFORE bad row removal: Hashed Text = 62204 -- Raw Tokens = 62204 -- Max Token Index = 1037934 \n",
      "Number of Entries AFTER bad row removal: Hashed Text = 62058 -- Raw Tokens = 62058 -- Labels = 62058 \n"
     ]
    }
   ],
   "source": [
    "# (2) Tokenize each row in training dataset\n",
    "raw_tokens = []\n",
    "max_index = 0\n",
    "for text in hashed_text:\n",
    "    token_lists = tokenizer.texts_to_sequences(text)\n",
    "    temp = [j for sub in token_lists for j in sub]\n",
    "    raw_tokens.append(temp)\n",
    "    if len(temp) == 0: \n",
    "        continue\n",
    "    max_token_index = max(temp)\n",
    "    if max_token_index > max_index:\n",
    "        max_index = max_token_index\n",
    "\n",
    "print(\"Number of Entries BEFORE bad row removal: Hashed Text = {} -- Raw Tokens = {} -- Max Token Index = {} \".format(len(hashed_text), len(raw_tokens), max_index))\n",
    "\n",
    "# remove bad rows (with word counts < MIN_WORDS)\n",
    "bad_row_index = []\n",
    "for idx in range(len(raw_tokens)):\n",
    "    if len(raw_tokens[idx]) < MIN_WORDS:\n",
    "        bad_row_index.append(idx)\n",
    "\n",
    "for idx in bad_row_index:\n",
    "    labels.pop(idx)\n",
    "    hashed_text.pop(idx)\n",
    "    raw_tokens.pop(idx)\n",
    "    \n",
    "print(\"Number of Entries AFTER bad row removal: Hashed Text = {} -- Raw Tokens = {} -- Labels = {} \".format(len(hashed_text), len(raw_tokens), len(labels)))"
   ]
  },
  {
   "cell_type": "code",
   "execution_count": 6,
   "metadata": {},
   "outputs": [
    {
     "name": "stdout",
     "output_type": "stream",
     "text": [
      "Number of Preprocessed Text Entries = 62058\n"
     ]
    }
   ],
   "source": [
    "# (3) Truncate/Pad each row to fixed length; change to Numpy array\n",
    "MAX_LEN = 200\n",
    "X = np.empty((len(raw_tokens), MAX_LEN), dtype=np.int32)\n",
    "\n",
    "for idx in range(len(raw_tokens)):\n",
    "    tok_length = len(raw_tokens[idx])\n",
    "    \n",
    "    # Pad first, keep last\n",
    "    # if tok_length < MAX_LEN:\n",
    "    #     X[idx] = np.concatenate((np.zeros(MAX_LEN - tok_length, dtype=np.int32), raw_tokens[idx]), axis=0).astype(np.int32)\n",
    "    # else:\n",
    "    #     X[idx] = np.array(raw_tokens[idx][tok_length - MAX_LEN:], dtype=np.int32)\n",
    "    \n",
    "    # Pad last, keep first    \n",
    "    if tok_length < MAX_LEN:\n",
    "        X[idx] = np.concatenate((raw_tokens[idx], np.zeros(MAX_LEN - tok_length, dtype=np.int32)), axis=0).astype(np.int32)\n",
    "    else:\n",
    "        X[idx] = np.array(raw_tokens[idx][:MAX_LEN], dtype=np.int32)\n",
    "\n",
    "# for i in range(5):\n",
    "#     print(\"************* Index: {} -- Length: {} **************\".format(i, len(X[i])))\n",
    "#     print(X[i])\n",
    "#     print(\"-------------------------------\")\n",
    "print(\"Number of Preprocessed Text Entries = {}\".format(len(X)))"
   ]
  },
  {
   "cell_type": "code",
   "execution_count": 7,
   "metadata": {},
   "outputs": [
    {
     "name": "stdout",
     "output_type": "stream",
     "text": [
      "Number of Label Vector Entries = 62058\n"
     ]
    }
   ],
   "source": [
    "# (4) Create One Hot Label Vectors\n",
    "y = np.zeros((len(labels), len(label_list)), dtype=np.int32)\n",
    "for i in range(len(labels)):\n",
    "    y[i, label_indexer[labels[i]]] = 1\n",
    "    \n",
    "# for i in range(20):\n",
    "#     print(\"************* Index: {} -- Length: {} **************\".format(i, len(y[i])))\n",
    "#     print(labels[i], label_indexer[labels[i]], y[i])\n",
    "#     print(\"-------------------------------\")\n",
    "print(\"Number of Label Vector Entries = {}\".format(len(y)))"
   ]
  },
  {
   "cell_type": "markdown",
   "metadata": {},
   "source": [
    "<h4>Define Models</h4>\n",
    "<ol>\n",
    "    <li>Separable (1d) CNN model</li>\n",
    "    <li>Bidirectional LSTM model</li>\n",
    "</ol>"
   ]
  },
  {
   "cell_type": "code",
   "execution_count": 8,
   "metadata": {},
   "outputs": [],
   "source": [
    "from tensorflow.keras import models, initializers\n",
    "from tensorflow.keras.regularizers import l2\n",
    "from tensorflow.keras.layers import Dense, Dropout, Embedding, SeparableConv1D, MaxPooling1D, GlobalAveragePooling1D, BatchNormalization, ReLU\n",
    "\n",
    "# (1) Separable (1d) CNN Model \n",
    "def sepcnn(max_word_index, num_feature, num_class, embedding_dim=100, kernel_size=3, pool_size=3, filters=64, dropout=0.1, activation='sigmoid'):\n",
    "    model = models.Sequential()\n",
    "    # Embedding layer. \n",
    "    model.add(Embedding(max_word_index, embedding_dim, input_length=num_feature))\n",
    "    # CNN Block 1\n",
    "    model.add(SeparableConv1D(filters=filters, kernel_size=kernel_size, padding='same'))\n",
    "    model.add(BatchNormalization())\n",
    "    model.add(ReLU())\n",
    "    model.add(SeparableConv1D(filters=filters, kernel_size=kernel_size, padding='same'))\n",
    "    model.add(BatchNormalization())\n",
    "    model.add(ReLU())\n",
    "    # CNN Block 2\n",
    "    model.add(SeparableConv1D(filters=filters, kernel_size=kernel_size, padding='same'))\n",
    "    model.add(BatchNormalization())\n",
    "    model.add(ReLU())\n",
    "    model.add(SeparableConv1D(filters=filters, kernel_size=kernel_size, padding='same'))\n",
    "    model.add(BatchNormalization())\n",
    "    model.add(ReLU())\n",
    "    # CNN Block 3\n",
    "    model.add(SeparableConv1D(filters=filters * 2, kernel_size=kernel_size, padding='same'))\n",
    "    model.add(BatchNormalization())\n",
    "    model.add(ReLU())\n",
    "    model.add(SeparableConv1D(filters=filters * 2, kernel_size=kernel_size, padding='same'))\n",
    "    model.add(BatchNormalization())\n",
    "    model.add(ReLU())\n",
    "    model.add(GlobalAveragePooling1D())\n",
    "    # Fully Connected Layer\n",
    "    model.add(Dropout(rate=dropout))\n",
    "    model.add(Dense(num_class, activation=activation))\n",
    "    # try using different optimizers and different optimizer configs\n",
    "    model.compile('adam', 'binary_crossentropy', metrics=['accuracy'])\n",
    "    return model"
   ]
  },
  {
   "cell_type": "code",
   "execution_count": 9,
   "metadata": {},
   "outputs": [],
   "source": [
    "from tensorflow.keras.layers import LSTM, Bidirectional\n",
    "\n",
    "# (2) Bidirectional LSTM\n",
    "def bilstm(max_word_index, num_feature, num_class, embedding_dim=100, dropout=0.1, activation='sigmoid'):\n",
    "    model = models.Sequential()\n",
    "    # Embedding layer. \n",
    "    model.add(Embedding(max_word_index, embedding_dim, input_length=num_feature))\n",
    "    # BiLSTM layer\n",
    "    model.add(Bidirectional(LSTM(64)))\n",
    "    # Fully Connected Layer\n",
    "    model.add(Dropout(dropout))\n",
    "    model.add(Dense(num_class, activation=activation))\n",
    "    # try using different optimizers and different optimizer configs\n",
    "    model.compile('adam', 'binary_crossentropy', metrics=['accuracy'])\n",
    "    return model"
   ]
  },
  {
   "cell_type": "code",
   "execution_count": 10,
   "metadata": {},
   "outputs": [],
   "source": [
    "# Plot Model History\n",
    "def plot(epochs, history):\n",
    "    xdata = list(range(1, epochs + 1))\n",
    "    plt.plot(xdata, history['accuracy'],      label='Train Acc')\n",
    "    plt.plot(xdata, history['val_accuracy'],  label='Val Acc')\n",
    "    plt.plot(xdata, history['loss'],     label='Train Loss')\n",
    "    plt.plot(xdata, history['val_loss'], label='Val Loss')\n",
    " \n",
    "    plt.xlabel(\"Epoch\")\n",
    "    plt.ylabel(\"Accuracy/Loss\")\n",
    "    plt.legend()\n",
    "    plt.show()"
   ]
  },
  {
   "cell_type": "markdown",
   "metadata": {},
   "source": [
    "<h4> Train Separable CNN Model"
   ]
  },
  {
   "cell_type": "code",
   "execution_count": 11,
   "metadata": {},
   "outputs": [
    {
     "name": "stdout",
     "output_type": "stream",
     "text": [
      "Train on 49646 samples, validate on 12412 samples\n",
      "Epoch 1/5\n",
      "49646/49646 [==============================] - 999s 20ms/sample - loss: 0.1026 - accuracy: 0.9652 - val_loss: 0.0694 - val_accuracy: 0.9771\n",
      "Epoch 2/5\n",
      "49646/49646 [==============================] - 993s 20ms/sample - loss: 0.0387 - accuracy: 0.9882 - val_loss: 0.0742 - val_accuracy: 0.9751\n",
      "Epoch 3/5\n",
      "49646/49646 [==============================] - 995s 20ms/sample - loss: 0.0188 - accuracy: 0.9944 - val_loss: 0.1020 - val_accuracy: 0.9728\n",
      "Epoch 4/5\n",
      "49646/49646 [==============================] - 992s 20ms/sample - loss: 0.0118 - accuracy: 0.9965 - val_loss: 0.1076 - val_accuracy: 0.9732\n",
      "Epoch 5/5\n",
      "49646/49646 [==============================] - 994s 20ms/sample - loss: 0.0087 - accuracy: 0.9973 - val_loss: 0.1039 - val_accuracy: 0.9745\n",
      "\n",
      "SEP_CNN TRAINING AND VALIDATION COMPLETE... elapsed time: 27262.296875 sec\n",
      "\n",
      "\n",
      "{'loss': [0.10263060000275055, 0.03874549539029269, 0.018807949615269194, 0.011841409910482516, 0.008721442145093555], 'accuracy': [0.9652384, 0.98824143, 0.99437743, 0.9965175, 0.9973035], 'val_loss': [0.06943296367387175, 0.07416293007428805, 0.1020304723170052, 0.10764350821067499, 0.10391123452990085], 'val_accuracy': [0.9770554, 0.97508776, 0.97279125, 0.9732173, 0.97447175]}\n",
      "\n",
      "\n"
     ]
    },
    {
     "data": {
      "image/png": "[encoded data removed]",
      "text/plain": [
       "<Figure size 432x288 with 1 Axes>"
      ]
     },
     "metadata": {
      "needs_background": "light"
     },
     "output_type": "display_data"
    }
   ],
   "source": [
    "from sklearn.model_selection import train_test_split\n",
    "import time\n",
    "\n",
    "seed = 42\n",
    "np.random.seed(seed)\n",
    "\n",
    "EPOCHS = 5\n",
    "BATCH_SIZE = 50\n",
    "\n",
    "start_time = time.process_time()\n",
    "# Split training data 80/20 train/test split\n",
    "X_train, X_val, y_train, y_val = train_test_split(X, y, test_size=0.2, random_state=seed)\n",
    "cnn_model = sepcnn(max_index + 1, MAX_LEN, num_labels)\n",
    "history = cnn_model.fit(X_train, y_train, batch_size=BATCH_SIZE, epochs=EPOCHS, validation_data=(X_val, y_val))\n",
    "print('\\nSEP_CNN TRAINING AND VALIDATION COMPLETE... elapsed time: {} sec'.format(time.process_time() - start_time))\n",
    "\n",
    "# cnn_model.save('doc_classifier_sep_cnn.h5')\n",
    "print(\"\\n\")\n",
    "print(history.history)\n",
    "print(\"\\n\")\n",
    "plot(EPOCHS, history.history)"
   ]
  },
  {
   "cell_type": "code",
   "execution_count": 12,
   "metadata": {},
   "outputs": [
    {
     "name": "stdout",
     "output_type": "stream",
     "text": [
      "accuracy : 97.54\n",
      "accuracy : 99.70\n",
      "accuracy : 99.80\n",
      "accuracy : 99.80\n",
      "accuracy : 99.80\n",
      "99.33 (+/-0.89)\n",
      "\n",
      "SEP_CNN K-FOLD CROSS VALIDATION COMPLETE... elapsed time: 135766.375 sec\n"
     ]
    }
   ],
   "source": [
    "from sklearn.model_selection import GridSearchCV, KFold\n",
    "\n",
    "start_time = time.process_time()\n",
    "# Test with K-fold cross validation\n",
    "kfold = KFold(n_splits=5, shuffle=True, random_state=seed)\n",
    "cvscores = []\n",
    "for train, test in kfold.split(X, y):\n",
    "    cnn_model.fit(X[train], y[train], epochs=EPOCHS, batch_size=BATCH_SIZE, verbose=0)\n",
    "    scores = cnn_model.evaluate(X[test], y[test], verbose=0)\n",
    "    print(\"{0:s} : {1:.2f}\".format(cnn_model.metrics_names[1], scores[1]*100))\n",
    "    cvscores.append(scores[1] * 100)\n",
    "\n",
    "print(\"{0:.2f} (+/-{1:.2f})\".format(np.mean(cvscores), np.std(cvscores)))\n",
    "print('\\nSEP_CNN K-FOLD CROSS VALIDATION COMPLETE... elapsed time: {} sec'.format(time.process_time() - start_time))"
   ]
  },
  {
   "cell_type": "markdown",
   "metadata": {},
   "source": [
    "<h4>Train BiLSTM Model"
   ]
  },
  {
   "cell_type": "code",
   "execution_count": 13,
   "metadata": {},
   "outputs": [
    {
     "name": "stdout",
     "output_type": "stream",
     "text": [
      "Train on 49646 samples, validate on 12412 samples\n",
      "Epoch 1/5\n",
      "49646/49646 [==============================] - 990s 20ms/sample - loss: 0.1527 - accuracy: 0.9481 - val_loss: 0.1000 - val_accuracy: 0.9650\n",
      "Epoch 2/5\n",
      "49646/49646 [==============================] - 989s 20ms/sample - loss: 0.0793 - accuracy: 0.9737 - val_loss: 0.0764 - val_accuracy: 0.9735\n",
      "Epoch 3/5\n",
      "49646/49646 [==============================] - 988s 20ms/sample - loss: 0.0482 - accuracy: 0.9851 - val_loss: 0.0733 - val_accuracy: 0.9756\n",
      "Epoch 4/5\n",
      "49646/49646 [==============================] - 993s 20ms/sample - loss: 0.0303 - accuracy: 0.9911 - val_loss: 0.0787 - val_accuracy: 0.9748\n",
      "Epoch 5/5\n",
      "49646/49646 [==============================] - 991s 20ms/sample - loss: 0.0206 - accuracy: 0.9940 - val_loss: 0.0853 - val_accuracy: 0.9756\n",
      "\n",
      "BiLSTM TRAINING AND VALIDATION COMPLETE... elapsed time: 27113.546875 sec\n",
      "\n",
      "\n",
      "{'loss': [0.15267452746851826, 0.07933944557901379, 0.04822171697596335, 0.03032950353297136, 0.020559425109008253], 'accuracy': [0.94810236, 0.97373146, 0.98511404, 0.9911074, 0.99400735], 'val_loss': [0.10004015013220192, 0.07636522925499367, 0.07331817965327858, 0.07871247669895004, 0.08533491794460538], 'val_accuracy': [0.96503943, 0.9735048, 0.9756285, 0.97482276, 0.9755651]}\n",
      "\n",
      "\n"
     ]
    },
    {
     "data": {
      "image/png": "[encoded data removed]",
      "text/plain": [
       "<Figure size 432x288 with 1 Axes>"
      ]
     },
     "metadata": {
      "needs_background": "light"
     },
     "output_type": "display_data"
    }
   ],
   "source": [
    "EPOCHS = 5\n",
    "BATCH_SIZE = 50\n",
    "\n",
    "start_time = time.process_time()\n",
    "lstm_model = bilstm(max_index + 1, MAX_LEN, num_labels)\n",
    "history = lstm_model.fit(X_train, y_train, batch_size=BATCH_SIZE, epochs=EPOCHS, validation_data=(X_val, y_val))\n",
    "print('\\nBiLSTM TRAINING AND VALIDATION COMPLETE... elapsed time: {} sec'.format(time.process_time() - start_time))\n",
    "\n",
    "# lstm_model.save('doc_classifier_bilstm.h5')\n",
    "print(\"\\n\")\n",
    "print(history.history)\n",
    "print(\"\\n\")\n",
    "plot(EPOCHS, history.history)"
   ]
  },
  {
   "cell_type": "code",
   "execution_count": 14,
   "metadata": {},
   "outputs": [
    {
     "name": "stdout",
     "output_type": "stream",
     "text": [
      "accuracy : 97.34\n",
      "accuracy : 99.75\n",
      "accuracy : 99.82\n",
      "accuracy : 99.82\n",
      "accuracy : 99.82\n",
      "99.31 (+/-0.99)\n",
      "\n",
      "BiLSTM K-FOLD CROSS VALIDATION COMPLETE... elapsed time: 135371.015625 sec\n"
     ]
    }
   ],
   "source": [
    "start_time = time.process_time()\n",
    "# Test with K-fold cross validation\n",
    "cvscores = []\n",
    "for train, test in kfold.split(X, y):\n",
    "    lstm_model.fit(X[train], y[train], epochs=EPOCHS, batch_size=BATCH_SIZE, verbose=0)\n",
    "    scores = lstm_model.evaluate(X[test], y[test], verbose=0)\n",
    "    print(\"{0:s} : {1:.2f}\".format(lstm_model.metrics_names[1], scores[1]*100))\n",
    "    cvscores.append(scores[1] * 100)\n",
    "\n",
    "print(\"{0:.2f} (+/-{1:.2f})\".format(np.mean(cvscores), np.std(cvscores)))\n",
    "print('\\nBiLSTM K-FOLD CROSS VALIDATION COMPLETE... elapsed time: {} sec'.format(time.process_time() - start_time))"
   ]
  }
 ],
 "metadata": {
  "kernelspec": {
   "display_name": "Python 3",
   "language": "python",
   "name": "python3"
  },
  "language_info": {
   "codemirror_mode": {
    "name": "ipython",
    "version": 3
   },
   "file_extension": ".py",
   "mimetype": "text/x-python",
   "name": "python",
   "nbconvert_exporter": "python",
   "pygments_lexer": "ipython3",
   "version": "3.7.5"
  }
 },
 "nbformat": 4,
 "nbformat_minor": 4
}
